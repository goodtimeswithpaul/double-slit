{
 "cells": [
  {
   "cell_type": "code",
   "execution_count": 89,
   "id": "deb91058",
   "metadata": {},
   "outputs": [],
   "source": [
    "import matplotlib.pyplot as plt\n",
    "import matplotlib\n",
    "import numpy as np\n",
    "from datetime import datetime\n",
    "from numexpr import evaluate\n",
    "import os"
   ]
  },
  {
   "cell_type": "code",
   "execution_count": 90,
   "id": "ae80e945",
   "metadata": {},
   "outputs": [],
   "source": [
    "def get_mask(N):\n",
    "    mask = np.zeros((N,N),dtype=bool)\n",
    "    mask[0,:]  = True\n",
    "    mask[-1,:] = True\n",
    "    mask[:,0]  = True\n",
    "    mask[:,-1] = True\n",
    "    mask[int(N/4):int(N*9/32),:N-1] = True\n",
    "    mask[1:N-1,int(N*5/16):int(N*3/8)] = False\n",
    "    mask[1:N-1,int(N*5/8):int(N*11/16)] = False\n",
    "\n",
    "    return mask"
   ]
  },
  {
   "cell_type": "code",
   "execution_count": 91,
   "id": "c0ac836c",
   "metadata": {},
   "outputs": [],
   "source": [
    "def get_initial_U(N, mask):\n",
    "    U = np.zeros((N,N))\n",
    "    U[mask] = 0\n",
    "    return U"
   ]
  },
  {
   "cell_type": "code",
   "execution_count": 92,
   "id": "b076d95a",
   "metadata": {},
   "outputs": [],
   "source": [
    "def save_output_figure():\n",
    "    current_directory = os.getcwd()\n",
    "    relative_path = 'output/'\n",
    "    output_directory = os.path.join(current_directory, relative_path)\n",
    "    os.makedirs(output_directory, exist_ok=True)\n",
    "\n",
    "    now = datetime.now()\n",
    "    current_time = now.strftime(\"%H%M%S\")\n",
    "    filename = 'finitedifference' + current_time +'.png'\n",
    "\n",
    "    save_path = os.path.join(output_directory, filename)\n",
    "    plt.savefig(save_path, dpi=240)"
   ]
  },
  {
   "cell_type": "code",
   "execution_count": 93,
   "id": "d556d9a0",
   "metadata": {},
   "outputs": [],
   "source": [
    "def get_Unew_default(U, ULX, URX, ULY, URY, fac):\n",
    "    laplacian = (ULX + ULY - 4*U + URX + URY)\n",
    "    return (2*U - Uprev + fac * laplacian)"
   ]
  },
  {
   "cell_type": "code",
   "execution_count": 94,
   "id": "ec1279a3",
   "metadata": {},
   "outputs": [],
   "source": [
    "def get_Unew_numexpr(U, ULX, URX, ULY, URY, fac):\n",
    "    laplacian = evaluate(\"ULX + ULY - 4*U + URX + URY\")\n",
    "    return evaluate(\"2*U - Uprev + fac * laplacian\")"
   ]
  },
  {
   "cell_type": "code",
   "execution_count": 95,
   "id": "9fc2bde0",
   "metadata": {},
   "outputs": [],
   "source": [
    "def get_Unew_numexpr2(U, ULX, URX, ULY, URY, fac):\n",
    "    return evaluate(\"2*U - Uprev + fac * (ULX + ULY - 4*U + URX + URY)\")"
   ]
  },
  {
   "cell_type": "code",
   "execution_count": 96,
   "id": "19d70024",
   "metadata": {},
   "outputs": [],
   "source": [
    "def get_Unew_numexpr3(U, ULX, URX, ULY, URY, fac):\n",
    "    return evaluate(\"2*U - Uprev + fac * (ULX + ULY - 4*U + URX + URY)\", optimization='aggressive')"
   ]
  },
  {
   "cell_type": "code",
   "execution_count": 97,
   "id": "b728677c",
   "metadata": {},
   "outputs": [],
   "source": [
    "def get_Unew_numexpr4(U, Uprev, intermediate, fac):\n",
    "    return evaluate(\"2*U - Uprev + fac * intermediate\")"
   ]
  },
  {
   "cell_type": "code",
   "execution_count": 98,
   "id": "b2c40645",
   "metadata": {},
   "outputs": [],
   "source": [
    "def simulate_finite_difference(U, Uprev, mask, boxsize, N, c, tEnd, plotRealTime, get_Unew):\n",
    "    t = 0\n",
    "    U_local = U.copy()\n",
    "\n",
    "    # === Initialize Mesh ===\n",
    "    dx = boxsize / N\n",
    "    dt = (np.sqrt(2)/2) * dx / c\n",
    "    fac = dt**2 * c**2 / dx**2\n",
    "    aX = 0   # x-axis\n",
    "    aY = 1   # y-axis\n",
    "    R = -1   # right\n",
    "    L = 1    # left\n",
    "\n",
    "    # === Initialize grid ===\n",
    "    xlin = np.linspace(0.5 * dx, boxsize - 0.5*dx, N)\n",
    "\n",
    "    # === Main simulation loop ===\n",
    "    while t < tEnd:\n",
    "        #print(t)\n",
    "        # === Compute Laplacian ===\n",
    "        ULX = np.roll(U_local, L, axis=aX)\n",
    "        URX = np.roll(U_local, R, axis=aX)\n",
    "        ULY = np.roll(U_local, L, axis=aY)\n",
    "        URY = np.roll(U_local, R, axis=aY)\n",
    "            \n",
    "        # === Update U ===\n",
    "        Unew = get_Unew(U_local, ULX, URX, ULY, URY, fac)\n",
    "        Uprev = 1.*U\n",
    "        U_local = 1.*Unew\n",
    "        \n",
    "        # === Apply boudary conditions (Dirichlet/inflow) ===\n",
    "        U_local[mask] = 0\n",
    "        U_local[0,:] = np.sin(20*np.pi*t) * np.sin(np.pi*xlin)**2\n",
    "        \n",
    "        # === Update time ===\n",
    "        t += dt\n",
    "        \n",
    "        # if (plotRealTime) or t >= tEnd:\n",
    "        # \tplot_U(U, mask, cmap)\n",
    "        \n",
    "    return U"
   ]
  },
  {
   "cell_type": "code",
   "execution_count": 99,
   "id": "cb177363",
   "metadata": {},
   "outputs": [],
   "source": [
    "# Does not work because numExpr does not handle numpy function calls\n",
    "def simulate_finite_difference_final(U, Uprev, mask, boxsize, N, c, tEnd, plotRealTime, get_Unew):\n",
    "    t = 0\n",
    "\n",
    "    # === Initialize Mesh ===\n",
    "    dx = boxsize / N\n",
    "    dt = (np.sqrt(2)/2) * dx / c\n",
    "    fac = dt**2 * c**2 / dx**2\n",
    "    aX = 0   # x-axis\n",
    "    aY = 1   # y-axis\n",
    "    R = -1   # right\n",
    "    L = 1    # left\n",
    "\n",
    "    # === Initialize grid ===\n",
    "    xlin = np.linspace(0.5 * dx, boxsize - 0.5*dx, N)\n",
    "\n",
    "    # === Main simulation loop ===\n",
    "    while t < tEnd:\n",
    "        \n",
    "        intermediate = evaluate(\"(np.roll(U_local, L, axis=aX) + np.roll(U_local, L, axis=aY) - 4*U + np.roll(U_local, R, axis=aX) + np.roll(U_local, R, axis=aY))\")\n",
    "        \n",
    "        # === Update U ===\n",
    "        Unew = get_Unew(U, Uprev, intermediate, fac)\n",
    "        Uprev = 1.*U\n",
    "        U = 1.*Unew\n",
    "        \n",
    "        # === Apply boudary conditions (Dirichlet/inflow) ===\n",
    "        U[mask] = 0\n",
    "        U[0,:] = np.sin(20*np.pi*t) * np.sin(np.pi*xlin)**2\n",
    "        \n",
    "        # === Update time ===\n",
    "        t += dt\n",
    "        \n",
    "        # if (plotRealTime) or t >= tEnd:\n",
    "        # \tplot_U(U, mask, cmap)\n",
    "        \n",
    "    return U"
   ]
  },
  {
   "cell_type": "code",
   "execution_count": 100,
   "id": "d2598391",
   "metadata": {},
   "outputs": [
    {
     "name": "stdout",
     "output_type": "stream",
     "text": [
      "N = 100\n",
      "N = 200\n",
      "N = 300\n",
      "N = 400\n"
     ]
    },
    {
     "name": "stderr",
     "output_type": "stream",
     "text": [
      "/tmp/ipykernel_135716/2836354031.py:2: RuntimeWarning: overflow encountered in multiply\n",
      "  laplacian = (ULX + ULY - 4*U + URX + URY)\n",
      "/tmp/ipykernel_135716/2836354031.py:2: RuntimeWarning: invalid value encountered in subtract\n",
      "  laplacian = (ULX + ULY - 4*U + URX + URY)\n",
      "/tmp/ipykernel_135716/2836354031.py:2: RuntimeWarning: invalid value encountered in add\n",
      "  laplacian = (ULX + ULY - 4*U + URX + URY)\n",
      "/tmp/ipykernel_135716/2836354031.py:3: RuntimeWarning: overflow encountered in multiply\n",
      "  return (2*U - Uprev + fac * laplacian)\n",
      "/tmp/ipykernel_135716/2836354031.py:3: RuntimeWarning: invalid value encountered in add\n",
      "  return (2*U - Uprev + fac * laplacian)\n",
      "/tmp/ipykernel_135716/2836354031.py:2: RuntimeWarning: overflow encountered in add\n",
      "  laplacian = (ULX + ULY - 4*U + URX + URY)\n"
     ]
    },
    {
     "name": "stdout",
     "output_type": "stream",
     "text": [
      "N = 500\n",
      "N = 600\n"
     ]
    }
   ],
   "source": [
    "from timeit import default_timer as timer\n",
    "\n",
    "\"\"\" Finite Difference simulation \"\"\"\n",
    "\n",
    "# === Simulation parameters ===\n",
    "boxsize        = 1.    # Size of the box\n",
    "c              = 1.    # Wave Speed\n",
    "tEnd           = 2.    # Simulation time\n",
    "plotRealTime   = False  # Set to True for real-time vizualisation\n",
    "\n",
    "resolutions = [100 * i for i in range(1, 7)]\n",
    "\n",
    "results_default = []\n",
    "results_numexpr = []\n",
    "results_numexpr2 = []\n",
    "results_numexpr3 = []\n",
    "results_numexpr4 = []\n",
    "\n",
    "for N in resolutions:\n",
    "    print(\"N = \" + str(N))\n",
    "    # === Generate mask & initial conditions\n",
    "    mask = get_mask(N)\n",
    "    U = get_initial_U(N, mask)\n",
    "    Uprev = 1.*U\n",
    "\n",
    "    start = timer()\n",
    "    res1 = simulate_finite_difference(U, Uprev, mask, boxsize, N, c, tEnd, plotRealTime, get_Unew_default)\n",
    "    end = timer()\n",
    "\n",
    "    results_default.append(end - start)\n",
    "    \n",
    "    start = timer()\n",
    "    res2 = simulate_finite_difference(U, Uprev, mask, boxsize, N, c, tEnd, plotRealTime, get_Unew_numexpr)\n",
    "    end = timer()\n",
    "\n",
    "    results_numexpr.append(end - start)\n",
    "    \n",
    "    start = timer()\n",
    "    res3 = simulate_finite_difference(U, Uprev, mask, boxsize, N, c, tEnd, plotRealTime, get_Unew_numexpr2)\n",
    "    end = timer()\n",
    "\n",
    "    results_numexpr2.append(end - start)\n",
    "    \n",
    "    start = timer()\n",
    "    res4 = simulate_finite_difference(U, Uprev, mask, boxsize, N, c, tEnd, plotRealTime, get_Unew_numexpr3)\n",
    "    end = timer()\n",
    "\n",
    "    results_numexpr3.append(end - start)\n",
    "    \n",
    "    # Making sure that the modified implementation match the original one\n",
    "    np.testing.assert_allclose(res2, res1)\n",
    "    np.testing.assert_allclose(res3, res1)\n",
    "    np.testing.assert_allclose(res4, res1)"
   ]
  },
  {
   "cell_type": "code",
   "execution_count": 101,
   "id": "a0f73fed",
   "metadata": {},
   "outputs": [
    {
     "name": "stdout",
     "output_type": "stream",
     "text": [
      "1.301149267730744\n",
      "1.5318223842548664\n",
      "1.530067537955692\n"
     ]
    },
    {
     "data": {
      "image/png": "[encoded data removed]",
      "text/plain": [
       "<Figure size 640x480 with 1 Axes>"
      ]
     },
     "metadata": {},
     "output_type": "display_data"
    }
   ],
   "source": [
    "def get_points_xy(resolutions, results):\n",
    "    points = []\n",
    "\n",
    "    for i in range(len(resolutions)):\n",
    "        points.append([resolutions[i], results[i]])\n",
    "    \n",
    "        \n",
    "    data = np.array([points])\n",
    "    x, y = data.T\n",
    "    \n",
    "    return [x, y]\n",
    "\n",
    "x, y = get_points_xy(resolutions, results_default)\n",
    "plt.plot(x, y, color=\"red\", marker='.', label=\"python\")\n",
    "\n",
    "x_c, y_c = get_points_xy(resolutions, results_numexpr)\n",
    "plt.plot(x_c, y_c, color=\"orange\", marker='.', label=\"numexpr\")\n",
    "\n",
    "x_c, y_c = get_points_xy(resolutions, results_numexpr2)\n",
    "plt.plot(x_c, y_c, color=\"pink\", marker='.', label=\"numexpr 2\")\n",
    "\n",
    "x_c, y_c = get_points_xy(resolutions, results_numexpr3)\n",
    "plt.plot(x_c, y_c, color=\"brown\", marker='.', label=\"numexpr 3\")\n",
    "\n",
    "print(results_default[-1]/results_numexpr[-1])\n",
    "print(results_default[-1]/results_numexpr2[-1])\n",
    "print(results_default[-1]/results_numexpr3[-1])\n",
    "\n",
    "plt.xlabel('Resolution')\n",
    "plt.ylabel('Time [s]')\n",
    "plt.legend(['NumPy','NumExpr two lines', 'NumExpr one line', 'NumExpr aggressive']) \n",
    "plt.show()"
   ]
  },
  {
   "cell_type": "code",
   "execution_count": null,
   "id": "ed4f9760",
   "metadata": {},
   "outputs": [],
   "source": []
  }
 ],
 "metadata": {
  "kernelspec": {
   "display_name": "Python 3 (ipykernel)",
   "language": "python",
   "name": "python3"
  },
  "language_info": {
   "codemirror_mode": {
    "name": "ipython",
    "version": 3
   },
   "file_extension": ".py",
   "mimetype": "text/x-python",
   "name": "python",
   "nbconvert_exporter": "python",
   "pygments_lexer": "ipython3",
   "version": "3.10.12"
  }
 },
 "nbformat": 4,
 "nbformat_minor": 5
}
